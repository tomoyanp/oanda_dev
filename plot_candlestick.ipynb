{
 "cells": [
  {
   "cell_type": "code",
   "execution_count": 1,
   "metadata": {},
   "outputs": [
    {
     "ename": "ImportError",
     "evalue": "No module named 'mysql_connector'",
     "output_type": "error",
     "traceback": [
      "\u001b[1;31m---------------------------------------------------------------------------\u001b[0m",
      "\u001b[1;31mImportError\u001b[0m                               Traceback (most recent call last)",
      "\u001b[1;32m<ipython-input-1-a8ae6741a637>\u001b[0m in \u001b[0;36m<module>\u001b[1;34m()\u001b[0m\n\u001b[1;32m----> 1\u001b[1;33m \u001b[1;32mfrom\u001b[0m \u001b[0mmysql_connector\u001b[0m \u001b[1;32mimport\u001b[0m \u001b[0mMysqlConnector\u001b[0m\u001b[1;33m\u001b[0m\u001b[0m\n\u001b[0m\u001b[0;32m      2\u001b[0m \u001b[1;32mimport\u001b[0m \u001b[0mnumpy\u001b[0m \u001b[1;32mas\u001b[0m \u001b[0mnp\u001b[0m\u001b[1;33m\u001b[0m\u001b[0m\n\u001b[0;32m      3\u001b[0m \u001b[1;32mimport\u001b[0m \u001b[0mmatplotlib\u001b[0m\u001b[1;33m.\u001b[0m\u001b[0mpyplot\u001b[0m \u001b[1;32mas\u001b[0m \u001b[0mplt\u001b[0m\u001b[1;33m\u001b[0m\u001b[0m\n\u001b[0;32m      4\u001b[0m \u001b[1;31m#import matplotlib.finance as mpf\u001b[0m\u001b[1;33m\u001b[0m\u001b[1;33m\u001b[0m\u001b[0m\n\u001b[0;32m      5\u001b[0m \u001b[1;32mfrom\u001b[0m \u001b[0mmatplotlib\u001b[0m \u001b[1;32mimport\u001b[0m \u001b[0mticker\u001b[0m\u001b[1;33m\u001b[0m\u001b[0m\n",
      "\u001b[1;31mImportError\u001b[0m: No module named 'mysql_connector'"
     ]
    }
   ],
   "source": [
    "from mysql_connector import MysqlConnector\n",
    "import numpy as np\n",
    "import matplotlib.pyplot as plt\n",
    "#import matplotlib.finance as mpf\n",
    "from matplotlib import ticker\n",
    "import matplotlib.dates as mdates\n",
    "from datetime import datetime, timedelta\n",
    "import mpl_finance as mpf\n",
    "import pandas as pd\n",
    "from pylab import plot\n",
    "\n",
    "\n",
    "mysql_connector = MysqlConnector()\n",
    "sql = \"select start_price, end_price, max_price, min_price, insert_time from %s_%s_TABLE where insert_time < \\'%s\\' order by insert_time desc limit %s\" % ()\n",
    "resposne = mysql_connector.select_sql(sql)\n",
    "price_list = []\n",
    "date_list = []\n",
    "\n",
    "for res in response:\n",
    "    tmp = []\n",
    "    tmp.append(res[0])\n",
    "    tmp.append(res[2])\n",
    "    tmp.append(res[3])\n",
    "    tmp.append(res[1])\n",
    "    date_list.append(res[4])\n",
    "    price_list.append(tmp)\n",
    "\n",
    "price_list.reverse()\n",
    "date_list.reverse()\n",
    "\n",
    "f = pd.DataFrame(price_list, columns=[\"open\", \"high\", \"low\", \"close\"], index=date_list)\n",
    "candlechart(f)"
   ]
  },
  {
   "cell_type": "code",
   "execution_count": null,
   "metadata": {},
   "outputs": [],
   "source": []
  }
 ],
 "metadata": {
  "kernelspec": {
   "display_name": "Python 3",
   "language": "python",
   "name": "python3"
  },
  "language_info": {
   "codemirror_mode": {
    "name": "ipython",
    "version": 3
   },
   "file_extension": ".py",
   "mimetype": "text/x-python",
   "name": "python",
   "nbconvert_exporter": "python",
   "pygments_lexer": "ipython3",
   "version": "3.5.5"
  }
 },
 "nbformat": 4,
 "nbformat_minor": 2
}
